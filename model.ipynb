{
 "cells": [
  {
   "cell_type": "code",
   "execution_count": 22,
   "metadata": {},
   "outputs": [],
   "source": [
    "import numpy as np\n",
    "import cv2\n",
    "import matplotlib.pyplot as plt"
   ]
  },
  {
   "cell_type": "code",
   "execution_count": 23,
   "metadata": {},
   "outputs": [],
   "source": [
    "with_mask=np.load('with_mask.npy')\n",
    "without_mask=np.load('without_mask.npy')"
   ]
  },
  {
   "cell_type": "code",
   "execution_count": 24,
   "metadata": {},
   "outputs": [
    {
     "data": {
      "text/plain": [
       "(200, 50, 50, 3)"
      ]
     },
     "execution_count": 24,
     "metadata": {},
     "output_type": "execute_result"
    }
   ],
   "source": [
    "with_mask.shape"
   ]
  },
  {
   "cell_type": "code",
   "execution_count": 25,
   "metadata": {},
   "outputs": [
    {
     "data": {
      "text/plain": [
       "(200, 50, 50, 3)"
      ]
     },
     "execution_count": 25,
     "metadata": {},
     "output_type": "execute_result"
    }
   ],
   "source": [
    "without_mask.shape"
   ]
  },
  {
   "cell_type": "code",
   "execution_count": 26,
   "metadata": {},
   "outputs": [],
   "source": [
    "with_mask=with_mask.reshape(200,50*50*3)\n",
    "without_mask=without_mask.reshape(200,50*50*3)\n"
   ]
  },
  {
   "cell_type": "code",
   "execution_count": 27,
   "metadata": {},
   "outputs": [
    {
     "data": {
      "text/plain": [
       "(200, 7500)"
      ]
     },
     "execution_count": 27,
     "metadata": {},
     "output_type": "execute_result"
    }
   ],
   "source": [
    "with_mask.shape"
   ]
  },
  {
   "cell_type": "code",
   "execution_count": 28,
   "metadata": {},
   "outputs": [
    {
     "data": {
      "text/plain": [
       "(200, 7500)"
      ]
     },
     "execution_count": 28,
     "metadata": {},
     "output_type": "execute_result"
    }
   ],
   "source": [
    "without_mask.shape"
   ]
  },
  {
   "cell_type": "code",
   "execution_count": 29,
   "metadata": {},
   "outputs": [
    {
     "data": {
      "text/plain": [
       "(400, 7500)"
      ]
     },
     "execution_count": 29,
     "metadata": {},
     "output_type": "execute_result"
    }
   ],
   "source": [
    "X=np.r_[with_mask,without_mask]\n",
    "X.shape"
   ]
  },
  {
   "cell_type": "code",
   "execution_count": 30,
   "metadata": {},
   "outputs": [],
   "source": [
    "labels=np.zeros(X.shape[0])\n"
   ]
  },
  {
   "cell_type": "code",
   "execution_count": 31,
   "metadata": {},
   "outputs": [],
   "source": [
    "labels[200:]=1.0"
   ]
  },
  {
   "cell_type": "code",
   "execution_count": 32,
   "metadata": {},
   "outputs": [],
   "source": [
    "names={0:'Mask',1:'NO MASK'}"
   ]
  },
  {
   "cell_type": "code",
   "execution_count": 33,
   "metadata": {},
   "outputs": [],
   "source": [
    "from sklearn.svm import SVC\n",
    "from sklearn.metrics import accuracy_score\n"
   ]
  },
  {
   "cell_type": "code",
   "execution_count": 34,
   "metadata": {},
   "outputs": [],
   "source": [
    "from sklearn.model_selection import train_test_split\n",
    "X_train,X_test,y_train,y_test=train_test_split(X,labels,test_size=0.25)\n"
   ]
  },
  {
   "cell_type": "code",
   "execution_count": 35,
   "metadata": {},
   "outputs": [
    {
     "data": {
      "text/plain": [
       "SVC()"
      ]
     },
     "execution_count": 35,
     "metadata": {},
     "output_type": "execute_result"
    }
   ],
   "source": [
    "svm=SVC()\n",
    "svm.fit(X_train,y_train)\n"
   ]
  },
  {
   "cell_type": "code",
   "execution_count": 36,
   "metadata": {},
   "outputs": [],
   "source": [
    "#X_test=pca.transform(X_test)#to reduce the dimension of the test ata\n",
    "y_pred=svm.predict(X_test)"
   ]
  },
  {
   "cell_type": "code",
   "execution_count": 37,
   "metadata": {},
   "outputs": [
    {
     "data": {
      "text/plain": [
       "1.0"
      ]
     },
     "execution_count": 37,
     "metadata": {},
     "output_type": "execute_result"
    }
   ],
   "source": [
    "accuracy_score(y_test,y_pred)#there is overfitting as acuuracy is high on train data"
   ]
  },
  {
   "cell_type": "code",
   "execution_count": 39,
   "metadata": {},
   "outputs": [
    {
     "name": "stdout",
     "output_type": "stream",
     "text": [
      "Mask\n",
      "Mask\n",
      "Mask\n",
      "Mask\n",
      "Mask\n",
      "Mask\n",
      "Mask\n",
      "Mask\n",
      "Mask\n",
      "Mask\n",
      "NO MASK\n",
      "NO MASK\n",
      "NO MASK\n",
      "Mask\n",
      "Mask\n",
      "Mask\n",
      "Mask\n",
      "NO MASK\n",
      "NO MASK\n",
      "NO MASK\n",
      "NO MASK\n",
      "NO MASK\n",
      "NO MASK\n",
      "NO MASK\n",
      "NO MASK\n",
      "NO MASK\n",
      "NO MASK\n",
      "NO MASK\n",
      "NO MASK\n",
      "NO MASK\n",
      "Mask\n",
      "NO MASK\n",
      "NO MASK\n",
      "NO MASK\n",
      "NO MASK\n",
      "NO MASK\n",
      "NO MASK\n",
      "NO MASK\n",
      "NO MASK\n",
      "NO MASK\n",
      "NO MASK\n",
      "NO MASK\n",
      "NO MASK\n",
      "NO MASK\n",
      "NO MASK\n",
      "NO MASK\n",
      "NO MASK\n",
      "NO MASK\n",
      "NO MASK\n",
      "NO MASK\n",
      "NO MASK\n",
      "NO MASK\n",
      "NO MASK\n",
      "NO MASK\n",
      "NO MASK\n",
      "NO MASK\n",
      "NO MASK\n",
      "NO MASK\n",
      "NO MASK\n",
      "NO MASK\n",
      "Mask\n",
      "Mask\n",
      "NO MASK\n",
      "Mask\n",
      "Mask\n",
      "Mask\n",
      "Mask\n",
      "NO MASK\n",
      "NO MASK\n",
      "Mask\n",
      "Mask\n",
      "NO MASK\n",
      "NO MASK\n",
      "NO MASK\n",
      "NO MASK\n",
      "NO MASK\n",
      "NO MASK\n",
      "NO MASK\n",
      "NO MASK\n",
      "NO MASK\n",
      "NO MASK\n",
      "NO MASK\n",
      "NO MASK\n",
      "NO MASK\n",
      "NO MASK\n",
      "NO MASK\n",
      "NO MASK\n",
      "NO MASK\n",
      "NO MASK\n",
      "NO MASK\n",
      "NO MASK\n",
      "NO MASK\n",
      "NO MASK\n",
      "NO MASK\n",
      "NO MASK\n",
      "NO MASK\n",
      "NO MASK\n",
      "NO MASK\n",
      "NO MASK\n",
      "NO MASK\n",
      "NO MASK\n",
      "NO MASK\n",
      "NO MASK\n",
      "NO MASK\n",
      "NO MASK\n",
      "NO MASK\n",
      "NO MASK\n",
      "NO MASK\n",
      "NO MASK\n",
      "NO MASK\n",
      "Mask\n",
      "Mask\n",
      "Mask\n",
      "Mask\n",
      "Mask\n",
      "Mask\n",
      "Mask\n",
      "Mask\n",
      "Mask\n",
      "Mask\n",
      "Mask\n",
      "Mask\n",
      "Mask\n",
      "Mask\n",
      "Mask\n",
      "NO MASK\n",
      "NO MASK\n",
      "Mask\n",
      "Mask\n",
      "Mask\n",
      "Mask\n",
      "Mask\n",
      "Mask\n",
      "Mask\n",
      "NO MASK\n",
      "NO MASK\n",
      "NO MASK\n",
      "NO MASK\n",
      "Mask\n",
      "Mask\n",
      "NO MASK\n",
      "Mask\n",
      "Mask\n",
      "Mask\n",
      "Mask\n",
      "Mask\n",
      "NO MASK\n",
      "NO MASK\n",
      "Mask\n",
      "Mask\n",
      "Mask\n",
      "Mask\n",
      "Mask\n",
      "Mask\n",
      "Mask\n",
      "NO MASK\n",
      "Mask\n",
      "NO MASK\n",
      "NO MASK\n",
      "Mask\n",
      "Mask\n",
      "Mask\n",
      "Mask\n",
      "Mask\n",
      "Mask\n",
      "Mask\n",
      "Mask\n",
      "Mask\n",
      "Mask\n",
      "Mask\n",
      "Mask\n",
      "Mask\n",
      "Mask\n",
      "Mask\n",
      "Mask\n",
      "Mask\n",
      "Mask\n",
      "Mask\n",
      "Mask\n",
      "Mask\n",
      "Mask\n",
      "Mask\n",
      "Mask\n",
      "Mask\n",
      "Mask\n"
     ]
    }
   ],
   "source": [
    "data=cv2.CascadeClassifier('haarcascade_frontalface_default.xml')\n",
    "capture=cv2.VideoCapture(0)\n",
    "dta=[]\n",
    "while True:\n",
    "    flag,image=capture.read()\n",
    "    if flag:\n",
    "        Z=data.detectMultiScale(image)\n",
    "        for a,b,c,d in Z:\n",
    "            cv2.rectangle(image,(a,b),(a+c,b+d),(255,0,255),4)\n",
    "            face=image[b:b+d,a:a+c,:]\n",
    "            face=cv2.resize(face,(50,50))\n",
    "            face=face.reshape(1,-1)\n",
    "            pred=svm.predict(face)[0]\n",
    "            n=names[int(pred)]\n",
    "            print(n)\n",
    "        cv2.imshow('show image',image)\n",
    "        if cv2.waitKey(2)==27:\n",
    "            break\n",
    "capture.release()\n",
    "cv2.destroyAllWindows()"
   ]
  },
  {
   "cell_type": "code",
   "execution_count": null,
   "metadata": {},
   "outputs": [],
   "source": []
  },
  {
   "cell_type": "code",
   "execution_count": null,
   "metadata": {},
   "outputs": [],
   "source": []
  }
 ],
 "metadata": {
  "kernelspec": {
   "display_name": "Python 3",
   "language": "python",
   "name": "python3"
  },
  "language_info": {
   "codemirror_mode": {
    "name": "ipython",
    "version": 3
   },
   "file_extension": ".py",
   "mimetype": "text/x-python",
   "name": "python",
   "nbconvert_exporter": "python",
   "pygments_lexer": "ipython3",
   "version": "3.8.5"
  }
 },
 "nbformat": 4,
 "nbformat_minor": 4
}
